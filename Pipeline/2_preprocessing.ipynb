{
 "metadata": {
  "language_info": {
   "codemirror_mode": {
    "name": "ipython",
    "version": 3
   },
   "file_extension": ".py",
   "mimetype": "text/x-python",
   "name": "python",
   "nbconvert_exporter": "python",
   "pygments_lexer": "ipython3",
   "version": 3
  },
  "orig_nbformat": 2
 },
 "nbformat": 4,
 "nbformat_minor": 2,
 "cells": [
  {
   "source": [
    "Still empty, but this is where we would handle missing values. Please go to "clustering experiment" in the Drafts folder if you want to see how the Wine dataset was preprocessed. "
   ],
   "cell_type": "markdown",
   "metadata": {}
  }
 ]
}
