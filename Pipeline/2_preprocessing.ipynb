{
 "metadata": {
  "language_info": {
   "codemirror_mode": {
    "name": "ipython",
    "version": 3
   },
   "file_extension": ".py",
   "mimetype": "text/x-python",
   "name": "python",
   "nbconvert_exporter": "python",
   "pygments_lexer": "ipython3",
   "version": 3
  },
  "orig_nbformat": 2
 },
 "nbformat": 4,
 "nbformat_minor": 2,
 "cells": [
  {
   "source": [
    "Still empty, but this is where we would handle missing values, transform categorical variables and so on.\n",
    "\n",
    "\n",
    "Please go to Drafts/clustering_experiment if you'd like to see Wine dataset was preprocessed. That notebook requires some work to make it more generalisable. "
   ],
   "cell_type": "markdown",
   "metadata": {}
  }
 ]
}