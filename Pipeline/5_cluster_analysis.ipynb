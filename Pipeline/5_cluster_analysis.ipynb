{
 "metadata": {
  "language_info": {
   "codemirror_mode": {
    "name": "ipython",
    "version": 3
   },
   "file_extension": ".py",
   "mimetype": "text/x-python",
   "name": "python",
   "nbconvert_exporter": "python",
   "pygments_lexer": "ipython3",
   "version": 3
  },
  "orig_nbformat": 2
 },
 "nbformat": 4,
 "nbformat_minor": 2,
 "cells": [
  {
   "source": [
    "In this notebook, we analyse the characteristics of the biased cluster.\n",
    "We would like to know the following:\n",
    "- What are the most common values for each feature?\n",
    "- How can we visualize the essential components of this cluster?\n",
    "- What is the distribution of the classes in this cluster? Is the classifier underperforming on one class?\n",
    "- What type of misclassifications is most present in this cluster?"
   ],
   "cell_type": "markdown",
   "metadata": {}
  }
 ]
}