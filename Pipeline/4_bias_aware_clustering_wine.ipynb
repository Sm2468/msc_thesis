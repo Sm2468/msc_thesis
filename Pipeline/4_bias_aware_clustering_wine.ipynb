{
 "metadata": {
  "language_info": {
   "codemirror_mode": {
    "name": "ipython",
    "version": 3
   },
   "file_extension": ".py",
   "mimetype": "text/x-python",
   "name": "python",
   "nbconvert_exporter": "python",
   "pygments_lexer": "ipython3",
   "version": "3.9.1"
  },
  "orig_nbformat": 2,
  "kernelspec": {
   "name": "python391jvsc74a57bd017b090ea87be7374e1a24313da865c5437f7b271e131ad745a67a82a8cb610e1",
   "display_name": "Python 3.9.1 32-bit ('clusterenv': conda)"
  }
 },
 "nbformat": 4,
 "nbformat_minor": 2,
 "cells": [
  {
   "source": [],
   "cell_type": "markdown",
   "metadata": {}
  },
  {
   "cell_type": "code",
   "execution_count": 3,
   "metadata": {},
   "outputs": [],
   "source": [
    "# Loading the libraries\n",
    "import numpy as np \n",
    "import matplotlib.pyplot as plt\n",
    "import pandas as pd\n",
    "import seaborn as sns\n",
    "from sklearn.cluster import KMeans\n",
    "from sklearn.preprocessing import StandardScaler\n"
   ]
  },
  {
   "cell_type": "code",
   "execution_count": 4,
   "metadata": {},
   "outputs": [],
   "source": [
    "all_data = pd.read_csv(r'C:\\Users\\Gebruiker\\Documents\\thesiscode\\experimental\\Preprocessed_datasets\\preprocessed_wine.csv', index_col=0)\n",
    "errors = all_data['errors']\n",
    "clustering_features_preprocessed = all_data.drop(['predicted_class', 'true_class', 'errors'], axis=1)"
   ]
  },
  {
   "cell_type": "code",
   "execution_count": 5,
   "metadata": {},
   "outputs": [
    {
     "output_type": "execute_result",
     "data": {
      "text/plain": [
       "     alcohol  malic_acid       ash  alcalinity_of_ash  magnesium  \\\n",
       "12  0.687846   -0.160373  0.141557          -0.694417  -0.834587   \n",
       "23 -0.356751   -0.343481  0.502356          -0.101678  -0.381526   \n",
       "25 -0.124619    0.290352  2.798346           2.269277   1.808272   \n",
       "35  0.374467   -0.047692  0.141557           0.787430  -0.003974   \n",
       "13  1.848509   -0.160373  0.075958          -2.209194  -0.683567   \n",
       "\n",
       "    total_phenols  flavanoids  nonflavanoid_phenols  proanthocyanins  \\\n",
       "12       0.004312    0.267992             -0.318793         0.017405   \n",
       "23      -0.222556   -0.278564             -0.635733        -0.650337   \n",
       "25       0.061029    0.155878              1.582845         0.227267   \n",
       "35       0.193369    0.576306             -0.635733         0.112797   \n",
       "13       0.949596    1.571320              1.160258         1.925240   \n",
       "\n",
       "    color_intensity       hue  od280/od315_of_diluted_wines   proline  \n",
       "12         0.697247  0.405843                     -0.146241  1.256507  \n",
       "23        -0.367414 -0.033392                      1.394286  0.408775  \n",
       "25        -0.590546  0.259431                      0.486852 -0.105424  \n",
       "35         0.378486 -0.399421                      1.056636  0.144727  \n",
       "13         0.569743  1.137900                     -0.504994  0.784001  "
      ],
      "text/html": "<div>\n<style scoped>\n    .dataframe tbody tr th:only-of-type {\n        vertical-align: middle;\n    }\n\n    .dataframe tbody tr th {\n        vertical-align: top;\n    }\n\n    .dataframe thead th {\n        text-align: right;\n    }\n</style>\n<table border=\"1\" class=\"dataframe\">\n  <thead>\n    <tr style=\"text-align: right;\">\n      <th></th>\n      <th>alcohol</th>\n      <th>malic_acid</th>\n      <th>ash</th>\n      <th>alcalinity_of_ash</th>\n      <th>magnesium</th>\n      <th>total_phenols</th>\n      <th>flavanoids</th>\n      <th>nonflavanoid_phenols</th>\n      <th>proanthocyanins</th>\n      <th>color_intensity</th>\n      <th>hue</th>\n      <th>od280/od315_of_diluted_wines</th>\n      <th>proline</th>\n    </tr>\n  </thead>\n  <tbody>\n    <tr>\n      <th>12</th>\n      <td>0.687846</td>\n      <td>-0.160373</td>\n      <td>0.141557</td>\n      <td>-0.694417</td>\n      <td>-0.834587</td>\n      <td>0.004312</td>\n      <td>0.267992</td>\n      <td>-0.318793</td>\n      <td>0.017405</td>\n      <td>0.697247</td>\n      <td>0.405843</td>\n      <td>-0.146241</td>\n      <td>1.256507</td>\n    </tr>\n    <tr>\n      <th>23</th>\n      <td>-0.356751</td>\n      <td>-0.343481</td>\n      <td>0.502356</td>\n      <td>-0.101678</td>\n      <td>-0.381526</td>\n      <td>-0.222556</td>\n      <td>-0.278564</td>\n      <td>-0.635733</td>\n      <td>-0.650337</td>\n      <td>-0.367414</td>\n      <td>-0.033392</td>\n      <td>1.394286</td>\n      <td>0.408775</td>\n    </tr>\n    <tr>\n      <th>25</th>\n      <td>-0.124619</td>\n      <td>0.290352</td>\n      <td>2.798346</td>\n      <td>2.269277</td>\n      <td>1.808272</td>\n      <td>0.061029</td>\n      <td>0.155878</td>\n      <td>1.582845</td>\n      <td>0.227267</td>\n      <td>-0.590546</td>\n      <td>0.259431</td>\n      <td>0.486852</td>\n      <td>-0.105424</td>\n    </tr>\n    <tr>\n      <th>35</th>\n      <td>0.374467</td>\n      <td>-0.047692</td>\n      <td>0.141557</td>\n      <td>0.787430</td>\n      <td>-0.003974</td>\n      <td>0.193369</td>\n      <td>0.576306</td>\n      <td>-0.635733</td>\n      <td>0.112797</td>\n      <td>0.378486</td>\n      <td>-0.399421</td>\n      <td>1.056636</td>\n      <td>0.144727</td>\n    </tr>\n    <tr>\n      <th>13</th>\n      <td>1.848509</td>\n      <td>-0.160373</td>\n      <td>0.075958</td>\n      <td>-2.209194</td>\n      <td>-0.683567</td>\n      <td>0.949596</td>\n      <td>1.571320</td>\n      <td>1.160258</td>\n      <td>1.925240</td>\n      <td>0.569743</td>\n      <td>1.137900</td>\n      <td>-0.504994</td>\n      <td>0.784001</td>\n    </tr>\n  </tbody>\n</table>\n</div>"
     },
     "metadata": {},
     "execution_count": 5
    }
   ],
   "source": [
    "# Scaling the features \n",
    "to_scale = clustering_features_preprocessed.columns\n",
    "clustering_features_preprocessed[to_scale] = StandardScaler().fit_transform(clustering_features_preprocessed[to_scale])\n",
    "\n",
    "clustering_features_preprocessed[:5]"
   ]
  },
  {
   "cell_type": "code",
   "execution_count": 6,
   "metadata": {},
   "outputs": [],
   "source": [
    "# Functions to calculate the F-score, mean F-score and the bias of each cluster. \n",
    "# Requires with predicted and true class columns, but the errors column is not needed)\n",
    "# TODO solve the \"float division by zero\" error\n",
    "# TODO replace macro F-score by weighted F-score\n",
    "\n",
    "def F_score(results, class_number):\n",
    "    true_pos = results.loc[(results[\"true_class\"] == class_number) & (results[\"predicted_class\"] == class_number)]\n",
    "    true_neg = results.loc[(results[\"true_class\"] != class_number) & (results[\"predicted_class\"] != class_number)]\n",
    "    false_pos = results.loc[(results[\"true_class\"] != class_number) & (results[\"predicted_class\"] == class_number)]\n",
    "    false_neg = results.loc[(results[\"true_class\"] == class_number) & (results[\"predicted_class\"] != class_number)]\n",
    "\n",
    "    try:\n",
    "        precision =  len(true_pos)/(len(true_pos) + len(false_pos))\n",
    "    except ZeroDivisionError:\n",
    "        return 0\n",
    "    try:\n",
    "        recall = len(true_pos)/(len(true_pos) + len(false_neg))\n",
    "    except ZeroDivisionError:\n",
    "        return 0\n",
    "\n",
    "    try:\n",
    "        f_score = 2 * ((precision * recall)/(precision + recall))\n",
    "    except ZeroDivisionError:\n",
    "        return 0\n",
    "        \n",
    "    return f_score\n",
    "\n",
    "# Calculating the macro average F-score --> will eventually be replaced with weighted F-score\n",
    "def mean_f_score(results):\n",
    "    classes = results['true_class'].unique()\n",
    "    class_list = []\n",
    "    for i in classes:\n",
    "        class_i = F_score(results, i)\n",
    "        class_list.append(class_i)\n",
    "    mean_f_score = (sum(class_list))/len(classes)\n",
    "    print('mean F-score of all classes within this cluster in the list: ', mean_f_score)\n",
    "    \n",
    "    return(mean_f_score)\n",
    "\n",
    "# Calculating the bias for each cluster\n",
    "def calculate_bias(clustered_data, cluster_number):\n",
    "    cluster_x = clustered_data.loc[clustered_data[\"clusters\"] == cluster_number]\n",
    "    remaining_clusters = clustered_data.loc[clustered_data[\"clusters\"] != cluster_number]\n",
    "    \n",
    "# Bias definition: the lower this is, the higher the bias of cluster x is\n",
    "    return mean_f_score(remaining_clusters) - mean_f_score(cluster_x)\n"
   ]
  },
  {
   "cell_type": "code",
   "execution_count": 7,
   "metadata": {},
   "outputs": [],
   "source": [
    "# TODO: experiment with differen random states, increase number of runs\n",
    "clus_model_kwargs = {\n",
    "    \"init\": \"k-means++\",\n",
    "    \"n_init\": 10,\n",
    "    \"max_iter\": 300,\n",
    "    \"random_state\": 2,\n",
    "}\n"
   ]
  },
  {
   "cell_type": "code",
   "execution_count": 8,
   "metadata": {},
   "outputs": [],
   "source": [
    "# Receives the data within one cluster to calculate the variance\n",
    "def calculate_variance(data):\n",
    "    # Obtain errors column\n",
    "    errors_col = data['errors']\n",
    "    # Number of observations\n",
    "    n = len(data)\n",
    "    # Mean of the data\n",
    "    mean = sum(errors_col)/n\n",
    "    # Squared deviation \n",
    "    deviations = [(x - mean) ** 2 for x in errors_col]\n",
    "    # Variance\n",
    "    variance = sum(deviations) / n\n",
    "    return variance\n",
    "\n",
    "def get_highest_var_cluster(data):\n",
    "    clusters = data['clusters'].unique()\n",
    "    highest_variance = 0\n",
    "    best_cluster = None\n",
    "    cluster_number = None\n",
    "    for i in clusters:\n",
    "        print('this is i:', i)\n",
    "        cluster_i = data[data['clusters'] == i]\n",
    "        variance_cluster = calculate_variance(cluster_i)\n",
    "        print('variance cluster:', variance_cluster)\n",
    "        print('highest found variance:', highest_variance)\n",
    "\n",
    "        if variance_cluster > highest_variance:\n",
    "            highest_variance = variance_cluster\n",
    "            best_cluster = cluster_i\n",
    "            cluster_number = i\n",
    "            print('the cluster with the highest variance:', cluster_number)\n",
    "\n",
    "    return cluster_number\n"
   ]
  },
  {
   "cell_type": "code",
   "execution_count": 9,
   "metadata": {},
   "outputs": [],
   "source": [
    "# plotting the cluster assignments to check whether the clusters make sense\n",
    "# TODO convert clustering dimensions to PCA to plot on 2-dimensional axis \n",
    "def plot_clusters(data):\n",
    "#     pca = PCA(n_components=2)\n",
    "#     transformed = pd.DataFrame({\"axis1\": np.zeros(len(data)), \"axis2\" : np.zeros(len(data))})\n",
    "#     transformed[\"axis1\",\"axis2\"] = pca.fit_transform(data.drop(\"clusters\", axis=1), y=None)\n",
    "#     transformed[\"clusters\"] = data[\"clusters\"]\n",
    "    scatterplot = sns.scatterplot(data=data, x=\"alcohol\", y=\"ash\", hue=\"clusters\")\n",
    "\n",
    "    plt.show()\n",
    "    \n"
   ]
  },
  {
   "cell_type": "code",
   "execution_count": 10,
   "metadata": {},
   "outputs": [
    {
     "output_type": "execute_result",
     "data": {
      "text/plain": [
       "     alcohol  malic_acid       ash  alcalinity_of_ash  magnesium  \\\n",
       "12  0.687846   -0.160373  0.141557          -0.694417  -0.834587   \n",
       "23 -0.356751   -0.343481  0.502356          -0.101678  -0.381526   \n",
       "25 -0.124619    0.290352  2.798346           2.269277   1.808272   \n",
       "35  0.374467   -0.047692  0.141557           0.787430  -0.003974   \n",
       "13  1.848509   -0.160373  0.075958          -2.209194  -0.683567   \n",
       "\n",
       "    total_phenols  flavanoids  nonflavanoid_phenols  proanthocyanins  \\\n",
       "12       0.004312    0.267992             -0.318793         0.017405   \n",
       "23      -0.222556   -0.278564             -0.635733        -0.650337   \n",
       "25       0.061029    0.155878              1.582845         0.227267   \n",
       "35       0.193369    0.576306             -0.635733         0.112797   \n",
       "13       0.949596    1.571320              1.160258         1.925240   \n",
       "\n",
       "    color_intensity       hue  od280/od315_of_diluted_wines   proline  \\\n",
       "12         0.697247  0.405843                     -0.146241  1.256507   \n",
       "23        -0.367414 -0.033392                      1.394286  0.408775   \n",
       "25        -0.590546  0.259431                      0.486852 -0.105424   \n",
       "35         0.378486 -0.399421                      1.056636  0.144727   \n",
       "13         0.569743  1.137900                     -0.504994  0.784001   \n",
       "\n",
       "    clusters  \n",
       "12         1  \n",
       "23         1  \n",
       "25         1  \n",
       "35         1  \n",
       "13         1  "
      ],
      "text/html": "<div>\n<style scoped>\n    .dataframe tbody tr th:only-of-type {\n        vertical-align: middle;\n    }\n\n    .dataframe tbody tr th {\n        vertical-align: top;\n    }\n\n    .dataframe thead th {\n        text-align: right;\n    }\n</style>\n<table border=\"1\" class=\"dataframe\">\n  <thead>\n    <tr style=\"text-align: right;\">\n      <th></th>\n      <th>alcohol</th>\n      <th>malic_acid</th>\n      <th>ash</th>\n      <th>alcalinity_of_ash</th>\n      <th>magnesium</th>\n      <th>total_phenols</th>\n      <th>flavanoids</th>\n      <th>nonflavanoid_phenols</th>\n      <th>proanthocyanins</th>\n      <th>color_intensity</th>\n      <th>hue</th>\n      <th>od280/od315_of_diluted_wines</th>\n      <th>proline</th>\n      <th>clusters</th>\n    </tr>\n  </thead>\n  <tbody>\n    <tr>\n      <th>12</th>\n      <td>0.687846</td>\n      <td>-0.160373</td>\n      <td>0.141557</td>\n      <td>-0.694417</td>\n      <td>-0.834587</td>\n      <td>0.004312</td>\n      <td>0.267992</td>\n      <td>-0.318793</td>\n      <td>0.017405</td>\n      <td>0.697247</td>\n      <td>0.405843</td>\n      <td>-0.146241</td>\n      <td>1.256507</td>\n      <td>1</td>\n    </tr>\n    <tr>\n      <th>23</th>\n      <td>-0.356751</td>\n      <td>-0.343481</td>\n      <td>0.502356</td>\n      <td>-0.101678</td>\n      <td>-0.381526</td>\n      <td>-0.222556</td>\n      <td>-0.278564</td>\n      <td>-0.635733</td>\n      <td>-0.650337</td>\n      <td>-0.367414</td>\n      <td>-0.033392</td>\n      <td>1.394286</td>\n      <td>0.408775</td>\n      <td>1</td>\n    </tr>\n    <tr>\n      <th>25</th>\n      <td>-0.124619</td>\n      <td>0.290352</td>\n      <td>2.798346</td>\n      <td>2.269277</td>\n      <td>1.808272</td>\n      <td>0.061029</td>\n      <td>0.155878</td>\n      <td>1.582845</td>\n      <td>0.227267</td>\n      <td>-0.590546</td>\n      <td>0.259431</td>\n      <td>0.486852</td>\n      <td>-0.105424</td>\n      <td>1</td>\n    </tr>\n    <tr>\n      <th>35</th>\n      <td>0.374467</td>\n      <td>-0.047692</td>\n      <td>0.141557</td>\n      <td>0.787430</td>\n      <td>-0.003974</td>\n      <td>0.193369</td>\n      <td>0.576306</td>\n      <td>-0.635733</td>\n      <td>0.112797</td>\n      <td>0.378486</td>\n      <td>-0.399421</td>\n      <td>1.056636</td>\n      <td>0.144727</td>\n      <td>1</td>\n    </tr>\n    <tr>\n      <th>13</th>\n      <td>1.848509</td>\n      <td>-0.160373</td>\n      <td>0.075958</td>\n      <td>-2.209194</td>\n      <td>-0.683567</td>\n      <td>0.949596</td>\n      <td>1.571320</td>\n      <td>1.160258</td>\n      <td>1.925240</td>\n      <td>0.569743</td>\n      <td>1.137900</td>\n      <td>-0.504994</td>\n      <td>0.784001</td>\n      <td>1</td>\n    </tr>\n  </tbody>\n</table>\n</div>"
     },
     "metadata": {},
     "execution_count": 10
    }
   ],
   "source": [
    "# Initialisation: all instances are assigned to the same cluster\n",
    "# TODO check the true_class column as it has no labels with the class =2\n",
    "clustering_features_preprocessed['clusters'] = 1\n",
    "clustering_features = clustering_features_preprocessed.copy(deep=True)\n",
    "\n",
    "clustering_features.head()"
   ]
  },
  {
   "cell_type": "code",
   "execution_count": 11,
   "metadata": {
    "tags": []
   },
   "outputs": [
    {
     "output_type": "stream",
     "name": "stdout",
     "text": [
      "Splitting on cluster 1\nthis is the mean F-score of all classes within this cluster in the list:  0.5517241379310345\nthis is the mean F-score of all classes within this cluster in the list:  0.3125\nthis is the mean F-score of all classes within this cluster in the list:  0.3125\nthis is the mean F-score of all classes within this cluster in the list:  0.5517241379310345\n"
     ]
    },
    {
     "output_type": "display_data",
     "data": {
      "text/plain": "<Figure size 432x288 with 1 Axes>",
      "image/svg+xml": "<?xml version=\"1.0\" encoding=\"utf-8\" standalone=\"no\"?>\r\n<!DOCTYPE svg PUBLIC \"-//W3C//DTD SVG 1.1//EN\"\r\n  \"http://www.w3.org/Graphics/SVG/1.1/DTD/svg11.dtd\">\r\n<!-- Created with matplotlib (https://matplotlib.org/) -->\r\n<svg height=\"262.645683pt\" version=\"1.1\" viewBox=\"0 0 390.045705 262.645683\" width=\"390.045705pt\" xmlns=\"http://www.w3.org/2000/svg\" xmlns:xlink=\"http://www.w3.org/1999/xlink\">\r\n <metadata>\r\n  <rdf:RDF xmlns:cc=\"http://creativecommons.org/ns#\" xmlns:dc=\"http://purl.org/dc/elements/1.1/\" xmlns:rdf=\"http://www.w3.org/1999/02/22-rdf-syntax-ns#\">\r\n   <cc:Work>\r\n    <dc:type rdf:resource=\"http://purl.org/dc/dcmitype/StillImage\"/>\r\n    <dc:date>2021-05-10T14:16:48.565078</dc:date>\r\n    <dc:format>image/svg+xml</dc:format>\r\n    <dc:creator>\r\n     <cc:Agent>\r\n      <dc:title>Matplotlib v3.3.4, https://matplotlib.org/</dc:title>\r\n     </cc:Agent>\r\n    </dc:creator>\r\n   </cc:Work>\r\n  </rdf:RDF>\r\n </metadata>\r\n <defs>\r\n  <style type=\"text/css\">*{stroke-linecap:butt;stroke-linejoin:round;}</style>\r\n </defs>\r\n <g id=\"figure_1\">\r\n  <g id=\"patch_1\">\r\n   <path d=\"M 0 262.645683 \r\nL 390.045705 262.645683 \r\nL 390.045705 0 \r\nL 0 0 \r\nz\r\n\" style=\"fill:none;\"/>\r\n  </g>\r\n  <g id=\"axes_1\">\r\n   <g id=\"patch_2\">\r\n    <path d=\"M 42.620313 225.089433 \r\nL 377.420313 225.089433 \r\nL 377.420313 7.649433 \r\nL 42.620313 7.649433 \r\nz\r\n\" style=\"fill:#ffffff;\"/>\r\n   </g>\r\n   <g id=\"PathCollection_1\">\r\n    <defs>\r\n     <path d=\"M 0 3 \r\nC 0.795609 3 1.55874 2.683901 2.12132 2.12132 \r\nC 2.683901 1.55874 3 0.795609 3 -0 \r\nC 3 -0.795609 2.683901 -1.55874 2.12132 -2.12132 \r\nC 1.55874 -2.683901 0.795609 -3 0 -3 \r\nC -0.795609 -3 -1.55874 -2.683901 -2.12132 -2.12132 \r\nC -2.683901 -1.55874 -3 -0.795609 -3 0 \r\nC -3 0.795609 -2.683901 1.55874 -2.12132 2.12132 \r\nC -1.55874 2.683901 -0.795609 3 0 3 \r\nz\r\n\" id=\"C0_0_176d5d79b8\"/>\r\n    </defs>\r\n    <g clip-path=\"url(#p899f14153b)\">\r\n     <use style=\"fill:#1f77b4;stroke:#ffffff;stroke-width:0.48;\" x=\"264.961352\" xlink:href=\"#C0_0_176d5d79b8\" y=\"103.616354\"/>\r\n    </g>\r\n    <g clip-path=\"url(#p899f14153b)\">\r\n     <use style=\"fill:#1f77b4;stroke:#ffffff;stroke-width:0.48;\" x=\"177.444652\" xlink:href=\"#C0_0_176d5d79b8\" y=\"91.926032\"/>\r\n    </g>\r\n    <g clip-path=\"url(#p899f14153b)\">\r\n     <use style=\"fill:#1f77b4;stroke:#ffffff;stroke-width:0.48;\" x=\"196.892807\" xlink:href=\"#C0_0_176d5d79b8\" y=\"17.53307\"/>\r\n    </g>\r\n    <g clip-path=\"url(#p899f14153b)\">\r\n     <use style=\"fill:#1f77b4;stroke:#ffffff;stroke-width:0.48;\" x=\"238.706342\" xlink:href=\"#C0_0_176d5d79b8\" y=\"103.616354\"/>\r\n    </g>\r\n    <g clip-path=\"url(#p899f14153b)\">\r\n     <use style=\"fill:#1f77b4;stroke:#ffffff;stroke-width:0.48;\" x=\"362.202131\" xlink:href=\"#C0_0_176d5d79b8\" y=\"105.741867\"/>\r\n    </g>\r\n    <g clip-path=\"url(#p899f14153b)\">\r\n     <use style=\"fill:#ff7f0e;stroke:#ffffff;stroke-width:0.48;\" x=\"130.769078\" xlink:href=\"#C0_0_176d5d79b8\" y=\"87.675005\"/>\r\n    </g>\r\n    <g clip-path=\"url(#p899f14153b)\">\r\n     <use style=\"fill:#1f77b4;stroke:#ffffff;stroke-width:0.48;\" x=\"298.995625\" xlink:href=\"#C0_0_176d5d79b8\" y=\"104.679111\"/>\r\n    </g>\r\n    <g clip-path=\"url(#p899f14153b)\">\r\n     <use style=\"fill:#ff7f0e;stroke:#ffffff;stroke-width:0.48;\" x=\"126.879447\" xlink:href=\"#C0_0_176d5d79b8\" y=\"152.503158\"/>\r\n    </g>\r\n    <g clip-path=\"url(#p899f14153b)\">\r\n     <use style=\"fill:#1f77b4;stroke:#ffffff;stroke-width:0.48;\" x=\"325.250635\" xlink:href=\"#C0_0_176d5d79b8\" y=\"94.051545\"/>\r\n    </g>\r\n    <g clip-path=\"url(#p899f14153b)\">\r\n     <use style=\"fill:#1f77b4;stroke:#ffffff;stroke-width:0.48;\" x=\"327.19545\" xlink:href=\"#C0_0_176d5d79b8\" y=\"99.365328\"/>\r\n    </g>\r\n    <g clip-path=\"url(#p899f14153b)\">\r\n     <use style=\"fill:#1f77b4;stroke:#ffffff;stroke-width:0.48;\" x=\"277.602653\" xlink:href=\"#C0_0_176d5d79b8\" y=\"84.486735\"/>\r\n    </g>\r\n    <g clip-path=\"url(#p899f14153b)\">\r\n     <use style=\"fill:#1f77b4;stroke:#ffffff;stroke-width:0.48;\" x=\"207.589293\" xlink:href=\"#C0_0_176d5d79b8\" y=\"75.984683\"/>\r\n    </g>\r\n    <g clip-path=\"url(#p899f14153b)\">\r\n     <use style=\"fill:#1f77b4;stroke:#ffffff;stroke-width:0.48;\" x=\"291.216362\" xlink:href=\"#C0_0_176d5d79b8\" y=\"124.871486\"/>\r\n    </g>\r\n    <g clip-path=\"url(#p899f14153b)\">\r\n     <use style=\"fill:#1f77b4;stroke:#ffffff;stroke-width:0.48;\" x=\"309.69211\" xlink:href=\"#C0_0_176d5d79b8\" y=\"100.428084\"/>\r\n    </g>\r\n    <g clip-path=\"url(#p899f14153b)\">\r\n     <use style=\"fill:#ff7f0e;stroke:#ffffff;stroke-width:0.48;\" x=\"119.100185\" xlink:href=\"#C0_0_176d5d79b8\" y=\"134.436296\"/>\r\n    </g>\r\n    <g clip-path=\"url(#p899f14153b)\">\r\n     <use style=\"fill:#ff7f0e;stroke:#ffffff;stroke-width:0.48;\" x=\"57.838494\" xlink:href=\"#C0_0_176d5d79b8\" y=\"117.43219\"/>\r\n    </g>\r\n    <g clip-path=\"url(#p899f14153b)\">\r\n     <use style=\"fill:#1f77b4;stroke:#ffffff;stroke-width:0.48;\" x=\"308.719703\" xlink:href=\"#C0_0_176d5d79b8\" y=\"99.365328\"/>\r\n    </g>\r\n    <g clip-path=\"url(#p899f14153b)\">\r\n     <use style=\"fill:#1f77b4;stroke:#ffffff;stroke-width:0.48;\" x=\"266.906168\" xlink:href=\"#C0_0_176d5d79b8\" y=\"74.921926\"/>\r\n    </g>\r\n    <g clip-path=\"url(#p899f14153b)\">\r\n     <use style=\"fill:#ff7f0e;stroke:#ffffff;stroke-width:0.48;\" x=\"122.989816\" xlink:href=\"#C0_0_176d5d79b8\" y=\"123.80873\"/>\r\n    </g>\r\n    <g clip-path=\"url(#p899f14153b)\">\r\n     <use style=\"fill:#1f77b4;stroke:#ffffff;stroke-width:0.48;\" x=\"231.899488\" xlink:href=\"#C0_0_176d5d79b8\" y=\"134.436296\"/>\r\n    </g>\r\n    <g clip-path=\"url(#p899f14153b)\">\r\n     <use style=\"fill:#1f77b4;stroke:#ffffff;stroke-width:0.48;\" x=\"263.988945\" xlink:href=\"#C0_0_176d5d79b8\" y=\"120.62046\"/>\r\n    </g>\r\n    <g clip-path=\"url(#p899f14153b)\">\r\n     <use style=\"fill:#1f77b4;stroke:#ffffff;stroke-width:0.48;\" x=\"240.651158\" xlink:href=\"#C0_0_176d5d79b8\" y=\"82.361222\"/>\r\n    </g>\r\n    <g clip-path=\"url(#p899f14153b)\">\r\n     <use style=\"fill:#ff7f0e;stroke:#ffffff;stroke-width:0.48;\" x=\"111.320922\" xlink:href=\"#C0_0_176d5d79b8\" y=\"90.863275\"/>\r\n    </g>\r\n    <g clip-path=\"url(#p899f14153b)\">\r\n     <use style=\"fill:#1f77b4;stroke:#ffffff;stroke-width:0.48;\" x=\"276.630246\" xlink:href=\"#C0_0_176d5d79b8\" y=\"62.168847\"/>\r\n    </g>\r\n    <g clip-path=\"url(#p899f14153b)\">\r\n     <use style=\"fill:#ff7f0e;stroke:#ffffff;stroke-width:0.48;\" x=\"102.569252\" xlink:href=\"#C0_0_176d5d79b8\" y=\"115.306677\"/>\r\n    </g>\r\n    <g clip-path=\"url(#p899f14153b)\">\r\n     <use style=\"fill:#ff7f0e;stroke:#ffffff;stroke-width:0.48;\" x=\"161.886127\" xlink:href=\"#C0_0_176d5d79b8\" y=\"119.557703\"/>\r\n    </g>\r\n    <g clip-path=\"url(#p899f14153b)\">\r\n     <use style=\"fill:#ff7f0e;stroke:#ffffff;stroke-width:0.48;\" x=\"162.858535\" xlink:href=\"#C0_0_176d5d79b8\" y=\"104.679111\"/>\r\n    </g>\r\n    <g clip-path=\"url(#p899f14153b)\">\r\n     <use style=\"fill:#1f77b4;stroke:#ffffff;stroke-width:0.48;\" x=\"326.223043\" xlink:href=\"#C0_0_176d5d79b8\" y=\"106.804624\"/>\r\n    </g>\r\n    <g clip-path=\"url(#p899f14153b)\">\r\n     <use style=\"fill:#1f77b4;stroke:#ffffff;stroke-width:0.48;\" x=\"196.892807\" xlink:href=\"#C0_0_176d5d79b8\" y=\"136.561809\"/>\r\n    </g>\r\n    <g clip-path=\"url(#p899f14153b)\">\r\n     <use style=\"fill:#1f77b4;stroke:#ffffff;stroke-width:0.48;\" x=\"202.727254\" xlink:href=\"#C0_0_176d5d79b8\" y=\"179.072073\"/>\r\n    </g>\r\n    <g clip-path=\"url(#p899f14153b)\">\r\n     <use style=\"fill:#ff7f0e;stroke:#ffffff;stroke-width:0.48;\" x=\"159.941312\" xlink:href=\"#C0_0_176d5d79b8\" y=\"121.683216\"/>\r\n    </g>\r\n    <g clip-path=\"url(#p899f14153b)\">\r\n     <use style=\"fill:#ff7f0e;stroke:#ffffff;stroke-width:0.48;\" x=\"122.989816\" xlink:href=\"#C0_0_176d5d79b8\" y=\"124.871486\"/>\r\n    </g>\r\n    <g clip-path=\"url(#p899f14153b)\">\r\n     <use style=\"fill:#1f77b4;stroke:#ffffff;stroke-width:0.48;\" x=\"220.230594\" xlink:href=\"#C0_0_176d5d79b8\" y=\"74.921926\"/>\r\n    </g>\r\n    <g clip-path=\"url(#p899f14153b)\">\r\n     <use style=\"fill:#1f77b4;stroke:#ffffff;stroke-width:0.48;\" x=\"275.657838\" xlink:href=\"#C0_0_176d5d79b8\" y=\"75.984683\"/>\r\n    </g>\r\n    <g clip-path=\"url(#p899f14153b)\">\r\n     <use style=\"fill:#1f77b4;stroke:#ffffff;stroke-width:0.48;\" x=\"300.94044\" xlink:href=\"#C0_0_176d5d79b8\" y=\"113.181164\"/>\r\n    </g>\r\n    <g clip-path=\"url(#p899f14153b)\">\r\n     <use style=\"fill:#1f77b4;stroke:#ffffff;stroke-width:0.48;\" x=\"219.258186\" xlink:href=\"#C0_0_176d5d79b8\" y=\"57.91782\"/>\r\n    </g>\r\n    <g clip-path=\"url(#p899f14153b)\">\r\n     <use style=\"fill:#ff7f0e;stroke:#ffffff;stroke-width:0.48;\" x=\"257.18209\" xlink:href=\"#C0_0_176d5d79b8\" y=\"155.691427\"/>\r\n    </g>\r\n    <g clip-path=\"url(#p899f14153b)\">\r\n     <use style=\"fill:#1f77b4;stroke:#ffffff;stroke-width:0.48;\" x=\"311.636926\" xlink:href=\"#C0_0_176d5d79b8\" y=\"101.490841\"/>\r\n    </g>\r\n    <g clip-path=\"url(#p899f14153b)\">\r\n     <use style=\"fill:#1f77b4;stroke:#ffffff;stroke-width:0.48;\" x=\"221.203002\" xlink:href=\"#C0_0_176d5d79b8\" y=\"132.310782\"/>\r\n    </g>\r\n    <g clip-path=\"url(#p899f14153b)\">\r\n     <use style=\"fill:#1f77b4;stroke:#ffffff;stroke-width:0.48;\" x=\"130.769078\" xlink:href=\"#C0_0_176d5d79b8\" y=\"136.561809\"/>\r\n    </g>\r\n    <g clip-path=\"url(#p899f14153b)\">\r\n     <use style=\"fill:#1f77b4;stroke:#ffffff;stroke-width:0.48;\" x=\"295.105994\" xlink:href=\"#C0_0_176d5d79b8\" y=\"117.43219\"/>\r\n    </g>\r\n    <g clip-path=\"url(#p899f14153b)\">\r\n     <use style=\"fill:#ff7f0e;stroke:#ffffff;stroke-width:0.48;\" x=\"79.231466\" xlink:href=\"#C0_0_176d5d79b8\" y=\"122.745973\"/>\r\n    </g>\r\n    <g clip-path=\"url(#p899f14153b)\">\r\n     <use style=\"fill:#1f77b4;stroke:#ffffff;stroke-width:0.48;\" x=\"263.016537\" xlink:href=\"#C0_0_176d5d79b8\" y=\"72.796413\"/>\r\n    </g>\r\n    <g clip-path=\"url(#p899f14153b)\">\r\n     <use style=\"fill:#1f77b4;stroke:#ffffff;stroke-width:0.48;\" x=\"272.740615\" xlink:href=\"#C0_0_176d5d79b8\" y=\"81.298466\"/>\r\n    </g>\r\n    <g clip-path=\"url(#p899f14153b)\">\r\n     <use style=\"fill:#ff7f0e;stroke:#ffffff;stroke-width:0.48;\" x=\"130.769078\" xlink:href=\"#C0_0_176d5d79b8\" y=\"215.205797\"/>\r\n    </g>\r\n    <g clip-path=\"url(#p899f14153b)\">\r\n     <use style=\"fill:#1f77b4;stroke:#ffffff;stroke-width:0.48;\" x=\"185.223914\" xlink:href=\"#C0_0_176d5d79b8\" y=\"78.110196\"/>\r\n    </g>\r\n    <g clip-path=\"url(#p899f14153b)\">\r\n     <use style=\"fill:#1f77b4;stroke:#ffffff;stroke-width:0.48;\" x=\"246.485604\" xlink:href=\"#C0_0_176d5d79b8\" y=\"98.302571\"/>\r\n    </g>\r\n    <g clip-path=\"url(#p899f14153b)\">\r\n     <use style=\"fill:#1f77b4;stroke:#ffffff;stroke-width:0.48;\" x=\"318.44378\" xlink:href=\"#C0_0_176d5d79b8\" y=\"70.6709\"/>\r\n    </g>\r\n    <g clip-path=\"url(#p899f14153b)\">\r\n     <use style=\"fill:#ff7f0e;stroke:#ffffff;stroke-width:0.48;\" x=\"94.78999\" xlink:href=\"#C0_0_176d5d79b8\" y=\"102.553598\"/>\r\n    </g>\r\n    <g clip-path=\"url(#p899f14153b)\">\r\n     <use style=\"fill:#ff7f0e;stroke:#ffffff;stroke-width:0.48;\" x=\"102.569252\" xlink:href=\"#C0_0_176d5d79b8\" y=\"179.072073\"/>\r\n    </g>\r\n    <g clip-path=\"url(#p899f14153b)\">\r\n     <use style=\"fill:#1f77b4;stroke:#ffffff;stroke-width:0.48;\" x=\"90.900359\" xlink:href=\"#C0_0_176d5d79b8\" y=\"115.306677\"/>\r\n    </g>\r\n    <g clip-path=\"url(#p899f14153b)\">\r\n     <use style=\"fill:#ff7f0e;stroke:#ffffff;stroke-width:0.48;\" x=\"60.755718\" xlink:href=\"#C0_0_176d5d79b8\" y=\"81.298466\"/>\r\n    </g>\r\n    <g clip-path=\"url(#p899f14153b)\">\r\n     <use style=\"fill:#ff7f0e;stroke:#ffffff;stroke-width:0.48;\" x=\"102.569252\" xlink:href=\"#C0_0_176d5d79b8\" y=\"113.181164\"/>\r\n    </g>\r\n    <g clip-path=\"url(#p899f14153b)\">\r\n     <use style=\"fill:#ff7f0e;stroke:#ffffff;stroke-width:0.48;\" x=\"79.231466\" xlink:href=\"#C0_0_176d5d79b8\" y=\"85.549492\"/>\r\n    </g>\r\n    <g clip-path=\"url(#p899f14153b)\">\r\n     <use style=\"fill:#1f77b4;stroke:#ffffff;stroke-width:0.48;\" x=\"307.747295\" xlink:href=\"#C0_0_176d5d79b8\" y=\"96.177058\"/>\r\n    </g>\r\n    <g clip-path=\"url(#p899f14153b)\">\r\n     <use style=\"fill:#ff7f0e;stroke:#ffffff;stroke-width:0.48;\" x=\"122.989816\" xlink:href=\"#C0_0_176d5d79b8\" y=\"149.314888\"/>\r\n    </g>\r\n    <g clip-path=\"url(#p899f14153b)\">\r\n     <use style=\"fill:#ff7f0e;stroke:#ffffff;stroke-width:0.48;\" x=\"157.024088\" xlink:href=\"#C0_0_176d5d79b8\" y=\"145.063861\"/>\r\n    </g>\r\n   </g>\r\n   <g id=\"PathCollection_2\"/>\r\n   <g id=\"PathCollection_3\"/>\r\n   <g id=\"matplotlib.axis_1\">\r\n    <g id=\"xtick_1\">\r\n     <g id=\"line2d_1\">\r\n      <defs>\r\n       <path d=\"M 0 0 \r\nL 0 3.5 \r\n\" id=\"m1fd51d886c\" style=\"stroke:#000000;stroke-width:0.8;\"/>\r\n      </defs>\r\n      <g>\r\n       <use style=\"stroke:#000000;stroke-width:0.8;\" x=\"81.662837\" xlink:href=\"#m1fd51d886c\" y=\"225.089433\"/>\r\n      </g>\r\n     </g>\r\n     <g id=\"text_1\">\r\n      <!-- −1.5 -->\r\n      <g transform=\"translate(69.52143 239.687871)scale(0.1 -0.1)\">\r\n       <defs>\r\n        <path d=\"M 10.59375 35.5 \r\nL 73.1875 35.5 \r\nL 73.1875 27.203125 \r\nL 10.59375 27.203125 \r\nz\r\n\" id=\"DejaVuSans-8722\"/>\r\n        <path d=\"M 12.40625 8.296875 \r\nL 28.515625 8.296875 \r\nL 28.515625 63.921875 \r\nL 10.984375 60.40625 \r\nL 10.984375 69.390625 \r\nL 28.421875 72.90625 \r\nL 38.28125 72.90625 \r\nL 38.28125 8.296875 \r\nL 54.390625 8.296875 \r\nL 54.390625 0 \r\nL 12.40625 0 \r\nz\r\n\" id=\"DejaVuSans-49\"/>\r\n        <path d=\"M 10.6875 12.40625 \r\nL 21 12.40625 \r\nL 21 0 \r\nL 10.6875 0 \r\nz\r\n\" id=\"DejaVuSans-46\"/>\r\n        <path d=\"M 10.796875 72.90625 \r\nL 49.515625 72.90625 \r\nL 49.515625 64.59375 \r\nL 19.828125 64.59375 \r\nL 19.828125 46.734375 \r\nQ 21.96875 47.46875 24.109375 47.828125 \r\nQ 26.265625 48.1875 28.421875 48.1875 \r\nQ 40.625 48.1875 47.75 41.5 \r\nQ 54.890625 34.8125 54.890625 23.390625 \r\nQ 54.890625 11.625 47.5625 5.09375 \r\nQ 40.234375 -1.421875 26.90625 -1.421875 \r\nQ 22.3125 -1.421875 17.546875 -0.640625 \r\nQ 12.796875 0.140625 7.71875 1.703125 \r\nL 7.71875 11.625 \r\nQ 12.109375 9.234375 16.796875 8.0625 \r\nQ 21.484375 6.890625 26.703125 6.890625 \r\nQ 35.15625 6.890625 40.078125 11.328125 \r\nQ 45.015625 15.765625 45.015625 23.390625 \r\nQ 45.015625 31 40.078125 35.4375 \r\nQ 35.15625 39.890625 26.703125 39.890625 \r\nQ 22.75 39.890625 18.8125 39.015625 \r\nQ 14.890625 38.140625 10.796875 36.28125 \r\nz\r\n\" id=\"DejaVuSans-53\"/>\r\n       </defs>\r\n       <use xlink:href=\"#DejaVuSans-8722\"/>\r\n       <use x=\"83.789062\" xlink:href=\"#DejaVuSans-49\"/>\r\n       <use x=\"147.412109\" xlink:href=\"#DejaVuSans-46\"/>\r\n       <use x=\"179.199219\" xlink:href=\"#DejaVuSans-53\"/>\r\n      </g>\r\n     </g>\r\n    </g>\r\n    <g id=\"xtick_2\">\r\n     <g id=\"line2d_2\">\r\n      <g>\r\n       <use style=\"stroke:#000000;stroke-width:0.8;\" x=\"123.553023\" xlink:href=\"#m1fd51d886c\" y=\"225.089433\"/>\r\n      </g>\r\n     </g>\r\n     <g id=\"text_2\">\r\n      <!-- −1.0 -->\r\n      <g transform=\"translate(111.411617 239.687871)scale(0.1 -0.1)\">\r\n       <defs>\r\n        <path d=\"M 31.78125 66.40625 \r\nQ 24.171875 66.40625 20.328125 58.90625 \r\nQ 16.5 51.421875 16.5 36.375 \r\nQ 16.5 21.390625 20.328125 13.890625 \r\nQ 24.171875 6.390625 31.78125 6.390625 \r\nQ 39.453125 6.390625 43.28125 13.890625 \r\nQ 47.125 21.390625 47.125 36.375 \r\nQ 47.125 51.421875 43.28125 58.90625 \r\nQ 39.453125 66.40625 31.78125 66.40625 \r\nz\r\nM 31.78125 74.21875 \r\nQ 44.046875 74.21875 50.515625 64.515625 \r\nQ 56.984375 54.828125 56.984375 36.375 \r\nQ 56.984375 17.96875 50.515625 8.265625 \r\nQ 44.046875 -1.421875 31.78125 -1.421875 \r\nQ 19.53125 -1.421875 13.0625 8.265625 \r\nQ 6.59375 17.96875 6.59375 36.375 \r\nQ 6.59375 54.828125 13.0625 64.515625 \r\nQ 19.53125 74.21875 31.78125 74.21875 \r\nz\r\n\" id=\"DejaVuSans-48\"/>\r\n       </defs>\r\n       <use xlink:href=\"#DejaVuSans-8722\"/>\r\n       <use x=\"83.789062\" xlink:href=\"#DejaVuSans-49\"/>\r\n       <use x=\"147.412109\" xlink:href=\"#DejaVuSans-46\"/>\r\n       <use x=\"179.199219\" xlink:href=\"#DejaVuSans-48\"/>\r\n      </g>\r\n     </g>\r\n    </g>\r\n    <g id=\"xtick_3\">\r\n     <g id=\"line2d_3\">\r\n      <g>\r\n       <use style=\"stroke:#000000;stroke-width:0.8;\" x=\"165.44321\" xlink:href=\"#m1fd51d886c\" y=\"225.089433\"/>\r\n      </g>\r\n     </g>\r\n     <g id=\"text_3\">\r\n      <!-- −0.5 -->\r\n      <g transform=\"translate(153.301804 239.687871)scale(0.1 -0.1)\">\r\n       <use xlink:href=\"#DejaVuSans-8722\"/>\r\n       <use x=\"83.789062\" xlink:href=\"#DejaVuSans-48\"/>\r\n       <use x=\"147.412109\" xlink:href=\"#DejaVuSans-46\"/>\r\n       <use x=\"179.199219\" xlink:href=\"#DejaVuSans-53\"/>\r\n      </g>\r\n     </g>\r\n    </g>\r\n    <g id=\"xtick_4\">\r\n     <g id=\"line2d_4\">\r\n      <g>\r\n       <use style=\"stroke:#000000;stroke-width:0.8;\" x=\"207.333396\" xlink:href=\"#m1fd51d886c\" y=\"225.089433\"/>\r\n      </g>\r\n     </g>\r\n     <g id=\"text_4\">\r\n      <!-- 0.0 -->\r\n      <g transform=\"translate(199.381834 239.687871)scale(0.1 -0.1)\">\r\n       <use xlink:href=\"#DejaVuSans-48\"/>\r\n       <use x=\"63.623047\" xlink:href=\"#DejaVuSans-46\"/>\r\n       <use x=\"95.410156\" xlink:href=\"#DejaVuSans-48\"/>\r\n      </g>\r\n     </g>\r\n    </g>\r\n    <g id=\"xtick_5\">\r\n     <g id=\"line2d_5\">\r\n      <g>\r\n       <use style=\"stroke:#000000;stroke-width:0.8;\" x=\"249.223583\" xlink:href=\"#m1fd51d886c\" y=\"225.089433\"/>\r\n      </g>\r\n     </g>\r\n     <g id=\"text_5\">\r\n      <!-- 0.5 -->\r\n      <g transform=\"translate(241.27202 239.687871)scale(0.1 -0.1)\">\r\n       <use xlink:href=\"#DejaVuSans-48\"/>\r\n       <use x=\"63.623047\" xlink:href=\"#DejaVuSans-46\"/>\r\n       <use x=\"95.410156\" xlink:href=\"#DejaVuSans-53\"/>\r\n      </g>\r\n     </g>\r\n    </g>\r\n    <g id=\"xtick_6\">\r\n     <g id=\"line2d_6\">\r\n      <g>\r\n       <use style=\"stroke:#000000;stroke-width:0.8;\" x=\"291.113769\" xlink:href=\"#m1fd51d886c\" y=\"225.089433\"/>\r\n      </g>\r\n     </g>\r\n     <g id=\"text_6\">\r\n      <!-- 1.0 -->\r\n      <g transform=\"translate(283.162207 239.687871)scale(0.1 -0.1)\">\r\n       <use xlink:href=\"#DejaVuSans-49\"/>\r\n       <use x=\"63.623047\" xlink:href=\"#DejaVuSans-46\"/>\r\n       <use x=\"95.410156\" xlink:href=\"#DejaVuSans-48\"/>\r\n      </g>\r\n     </g>\r\n    </g>\r\n    <g id=\"xtick_7\">\r\n     <g id=\"line2d_7\">\r\n      <g>\r\n       <use style=\"stroke:#000000;stroke-width:0.8;\" x=\"333.003956\" xlink:href=\"#m1fd51d886c\" y=\"225.089433\"/>\r\n      </g>\r\n     </g>\r\n     <g id=\"text_7\">\r\n      <!-- 1.5 -->\r\n      <g transform=\"translate(325.052393 239.687871)scale(0.1 -0.1)\">\r\n       <use xlink:href=\"#DejaVuSans-49\"/>\r\n       <use x=\"63.623047\" xlink:href=\"#DejaVuSans-46\"/>\r\n       <use x=\"95.410156\" xlink:href=\"#DejaVuSans-53\"/>\r\n      </g>\r\n     </g>\r\n    </g>\r\n    <g id=\"xtick_8\">\r\n     <g id=\"line2d_8\">\r\n      <g>\r\n       <use style=\"stroke:#000000;stroke-width:0.8;\" x=\"374.894142\" xlink:href=\"#m1fd51d886c\" y=\"225.089433\"/>\r\n      </g>\r\n     </g>\r\n     <g id=\"text_8\">\r\n      <!-- 2.0 -->\r\n      <g transform=\"translate(366.94258 239.687871)scale(0.1 -0.1)\">\r\n       <defs>\r\n        <path d=\"M 19.1875 8.296875 \r\nL 53.609375 8.296875 \r\nL 53.609375 0 \r\nL 7.328125 0 \r\nL 7.328125 8.296875 \r\nQ 12.9375 14.109375 22.625 23.890625 \r\nQ 32.328125 33.6875 34.8125 36.53125 \r\nQ 39.546875 41.84375 41.421875 45.53125 \r\nQ 43.3125 49.21875 43.3125 52.78125 \r\nQ 43.3125 58.59375 39.234375 62.25 \r\nQ 35.15625 65.921875 28.609375 65.921875 \r\nQ 23.96875 65.921875 18.8125 64.3125 \r\nQ 13.671875 62.703125 7.8125 59.421875 \r\nL 7.8125 69.390625 \r\nQ 13.765625 71.78125 18.9375 73 \r\nQ 24.125 74.21875 28.421875 74.21875 \r\nQ 39.75 74.21875 46.484375 68.546875 \r\nQ 53.21875 62.890625 53.21875 53.421875 \r\nQ 53.21875 48.921875 51.53125 44.890625 \r\nQ 49.859375 40.875 45.40625 35.40625 \r\nQ 44.1875 33.984375 37.640625 27.21875 \r\nQ 31.109375 20.453125 19.1875 8.296875 \r\nz\r\n\" id=\"DejaVuSans-50\"/>\r\n       </defs>\r\n       <use xlink:href=\"#DejaVuSans-50\"/>\r\n       <use x=\"63.623047\" xlink:href=\"#DejaVuSans-46\"/>\r\n       <use x=\"95.410156\" xlink:href=\"#DejaVuSans-48\"/>\r\n      </g>\r\n     </g>\r\n    </g>\r\n    <g id=\"text_9\">\r\n     <!-- alcohol -->\r\n     <g transform=\"translate(192.141406 253.365996)scale(0.1 -0.1)\">\r\n      <defs>\r\n       <path d=\"M 34.28125 27.484375 \r\nQ 23.390625 27.484375 19.1875 25 \r\nQ 14.984375 22.515625 14.984375 16.5 \r\nQ 14.984375 11.71875 18.140625 8.90625 \r\nQ 21.296875 6.109375 26.703125 6.109375 \r\nQ 34.1875 6.109375 38.703125 11.40625 \r\nQ 43.21875 16.703125 43.21875 25.484375 \r\nL 43.21875 27.484375 \r\nz\r\nM 52.203125 31.203125 \r\nL 52.203125 0 \r\nL 43.21875 0 \r\nL 43.21875 8.296875 \r\nQ 40.140625 3.328125 35.546875 0.953125 \r\nQ 30.953125 -1.421875 24.3125 -1.421875 \r\nQ 15.921875 -1.421875 10.953125 3.296875 \r\nQ 6 8.015625 6 15.921875 \r\nQ 6 25.140625 12.171875 29.828125 \r\nQ 18.359375 34.515625 30.609375 34.515625 \r\nL 43.21875 34.515625 \r\nL 43.21875 35.40625 \r\nQ 43.21875 41.609375 39.140625 45 \r\nQ 35.0625 48.390625 27.6875 48.390625 \r\nQ 23 48.390625 18.546875 47.265625 \r\nQ 14.109375 46.140625 10.015625 43.890625 \r\nL 10.015625 52.203125 \r\nQ 14.9375 54.109375 19.578125 55.046875 \r\nQ 24.21875 56 28.609375 56 \r\nQ 40.484375 56 46.34375 49.84375 \r\nQ 52.203125 43.703125 52.203125 31.203125 \r\nz\r\n\" id=\"DejaVuSans-97\"/>\r\n       <path d=\"M 9.421875 75.984375 \r\nL 18.40625 75.984375 \r\nL 18.40625 0 \r\nL 9.421875 0 \r\nz\r\n\" id=\"DejaVuSans-108\"/>\r\n       <path d=\"M 48.78125 52.59375 \r\nL 48.78125 44.1875 \r\nQ 44.96875 46.296875 41.140625 47.34375 \r\nQ 37.3125 48.390625 33.40625 48.390625 \r\nQ 24.65625 48.390625 19.8125 42.84375 \r\nQ 14.984375 37.3125 14.984375 27.296875 \r\nQ 14.984375 17.28125 19.8125 11.734375 \r\nQ 24.65625 6.203125 33.40625 6.203125 \r\nQ 37.3125 6.203125 41.140625 7.25 \r\nQ 44.96875 8.296875 48.78125 10.40625 \r\nL 48.78125 2.09375 \r\nQ 45.015625 0.34375 40.984375 -0.53125 \r\nQ 36.96875 -1.421875 32.421875 -1.421875 \r\nQ 20.0625 -1.421875 12.78125 6.34375 \r\nQ 5.515625 14.109375 5.515625 27.296875 \r\nQ 5.515625 40.671875 12.859375 48.328125 \r\nQ 20.21875 56 33.015625 56 \r\nQ 37.15625 56 41.109375 55.140625 \r\nQ 45.0625 54.296875 48.78125 52.59375 \r\nz\r\n\" id=\"DejaVuSans-99\"/>\r\n       <path d=\"M 30.609375 48.390625 \r\nQ 23.390625 48.390625 19.1875 42.75 \r\nQ 14.984375 37.109375 14.984375 27.296875 \r\nQ 14.984375 17.484375 19.15625 11.84375 \r\nQ 23.34375 6.203125 30.609375 6.203125 \r\nQ 37.796875 6.203125 41.984375 11.859375 \r\nQ 46.1875 17.53125 46.1875 27.296875 \r\nQ 46.1875 37.015625 41.984375 42.703125 \r\nQ 37.796875 48.390625 30.609375 48.390625 \r\nz\r\nM 30.609375 56 \r\nQ 42.328125 56 49.015625 48.375 \r\nQ 55.71875 40.765625 55.71875 27.296875 \r\nQ 55.71875 13.875 49.015625 6.21875 \r\nQ 42.328125 -1.421875 30.609375 -1.421875 \r\nQ 18.84375 -1.421875 12.171875 6.21875 \r\nQ 5.515625 13.875 5.515625 27.296875 \r\nQ 5.515625 40.765625 12.171875 48.375 \r\nQ 18.84375 56 30.609375 56 \r\nz\r\n\" id=\"DejaVuSans-111\"/>\r\n       <path d=\"M 54.890625 33.015625 \r\nL 54.890625 0 \r\nL 45.90625 0 \r\nL 45.90625 32.71875 \r\nQ 45.90625 40.484375 42.875 44.328125 \r\nQ 39.84375 48.1875 33.796875 48.1875 \r\nQ 26.515625 48.1875 22.3125 43.546875 \r\nQ 18.109375 38.921875 18.109375 30.90625 \r\nL 18.109375 0 \r\nL 9.078125 0 \r\nL 9.078125 75.984375 \r\nL 18.109375 75.984375 \r\nL 18.109375 46.1875 \r\nQ 21.34375 51.125 25.703125 53.5625 \r\nQ 30.078125 56 35.796875 56 \r\nQ 45.21875 56 50.046875 50.171875 \r\nQ 54.890625 44.34375 54.890625 33.015625 \r\nz\r\n\" id=\"DejaVuSans-104\"/>\r\n      </defs>\r\n      <use xlink:href=\"#DejaVuSans-97\"/>\r\n      <use x=\"61.279297\" xlink:href=\"#DejaVuSans-108\"/>\r\n      <use x=\"89.0625\" xlink:href=\"#DejaVuSans-99\"/>\r\n      <use x=\"144.042969\" xlink:href=\"#DejaVuSans-111\"/>\r\n      <use x=\"205.224609\" xlink:href=\"#DejaVuSans-104\"/>\r\n      <use x=\"268.603516\" xlink:href=\"#DejaVuSans-111\"/>\r\n      <use x=\"329.785156\" xlink:href=\"#DejaVuSans-108\"/>\r\n     </g>\r\n    </g>\r\n   </g>\r\n   <g id=\"matplotlib.axis_2\">\r\n    <g id=\"ytick_1\">\r\n     <g id=\"line2d_9\">\r\n      <defs>\r\n       <path d=\"M 0 0 \r\nL -3.5 0 \r\n\" id=\"m7eda68ca81\" style=\"stroke:#000000;stroke-width:0.8;\"/>\r\n      </defs>\r\n      <g>\r\n       <use style=\"stroke:#000000;stroke-width:0.8;\" x=\"42.620313\" xlink:href=\"#m7eda68ca81\" y=\"205.406757\"/>\r\n      </g>\r\n     </g>\r\n     <g id=\"text_10\">\r\n      <!-- −3 -->\r\n      <g transform=\"translate(20.878125 209.205976)scale(0.1 -0.1)\">\r\n       <defs>\r\n        <path d=\"M 40.578125 39.3125 \r\nQ 47.65625 37.796875 51.625 33 \r\nQ 55.609375 28.21875 55.609375 21.1875 \r\nQ 55.609375 10.40625 48.1875 4.484375 \r\nQ 40.765625 -1.421875 27.09375 -1.421875 \r\nQ 22.515625 -1.421875 17.65625 -0.515625 \r\nQ 12.796875 0.390625 7.625 2.203125 \r\nL 7.625 11.71875 \r\nQ 11.71875 9.328125 16.59375 8.109375 \r\nQ 21.484375 6.890625 26.8125 6.890625 \r\nQ 36.078125 6.890625 40.9375 10.546875 \r\nQ 45.796875 14.203125 45.796875 21.1875 \r\nQ 45.796875 27.640625 41.28125 31.265625 \r\nQ 36.765625 34.90625 28.71875 34.90625 \r\nL 20.21875 34.90625 \r\nL 20.21875 43.015625 \r\nL 29.109375 43.015625 \r\nQ 36.375 43.015625 40.234375 45.921875 \r\nQ 44.09375 48.828125 44.09375 54.296875 \r\nQ 44.09375 59.90625 40.109375 62.90625 \r\nQ 36.140625 65.921875 28.71875 65.921875 \r\nQ 24.65625 65.921875 20.015625 65.03125 \r\nQ 15.375 64.15625 9.8125 62.3125 \r\nL 9.8125 71.09375 \r\nQ 15.4375 72.65625 20.34375 73.4375 \r\nQ 25.25 74.21875 29.59375 74.21875 \r\nQ 40.828125 74.21875 47.359375 69.109375 \r\nQ 53.90625 64.015625 53.90625 55.328125 \r\nQ 53.90625 49.265625 50.4375 45.09375 \r\nQ 46.96875 40.921875 40.578125 39.3125 \r\nz\r\n\" id=\"DejaVuSans-51\"/>\r\n       </defs>\r\n       <use xlink:href=\"#DejaVuSans-8722\"/>\r\n       <use x=\"83.789062\" xlink:href=\"#DejaVuSans-51\"/>\r\n      </g>\r\n     </g>\r\n    </g>\r\n    <g id=\"ytick_2\">\r\n     <g id=\"line2d_10\">\r\n      <g>\r\n       <use style=\"stroke:#000000;stroke-width:0.8;\" x=\"42.620313\" xlink:href=\"#m7eda68ca81\" y=\"173.005501\"/>\r\n      </g>\r\n     </g>\r\n     <g id=\"text_11\">\r\n      <!-- −2 -->\r\n      <g transform=\"translate(20.878125 176.804719)scale(0.1 -0.1)\">\r\n       <use xlink:href=\"#DejaVuSans-8722\"/>\r\n       <use x=\"83.789062\" xlink:href=\"#DejaVuSans-50\"/>\r\n      </g>\r\n     </g>\r\n    </g>\r\n    <g id=\"ytick_3\">\r\n     <g id=\"line2d_11\">\r\n      <g>\r\n       <use style=\"stroke:#000000;stroke-width:0.8;\" x=\"42.620313\" xlink:href=\"#m7eda68ca81\" y=\"140.604244\"/>\r\n      </g>\r\n     </g>\r\n     <g id=\"text_12\">\r\n      <!-- −1 -->\r\n      <g transform=\"translate(20.878125 144.403463)scale(0.1 -0.1)\">\r\n       <use xlink:href=\"#DejaVuSans-8722\"/>\r\n       <use x=\"83.789062\" xlink:href=\"#DejaVuSans-49\"/>\r\n      </g>\r\n     </g>\r\n    </g>\r\n    <g id=\"ytick_4\">\r\n     <g id=\"line2d_12\">\r\n      <g>\r\n       <use style=\"stroke:#000000;stroke-width:0.8;\" x=\"42.620313\" xlink:href=\"#m7eda68ca81\" y=\"108.202988\"/>\r\n      </g>\r\n     </g>\r\n     <g id=\"text_13\">\r\n      <!-- 0 -->\r\n      <g transform=\"translate(29.257813 112.002207)scale(0.1 -0.1)\">\r\n       <use xlink:href=\"#DejaVuSans-48\"/>\r\n      </g>\r\n     </g>\r\n    </g>\r\n    <g id=\"ytick_5\">\r\n     <g id=\"line2d_13\">\r\n      <g>\r\n       <use style=\"stroke:#000000;stroke-width:0.8;\" x=\"42.620313\" xlink:href=\"#m7eda68ca81\" y=\"75.801732\"/>\r\n      </g>\r\n     </g>\r\n     <g id=\"text_14\">\r\n      <!-- 1 -->\r\n      <g transform=\"translate(29.257813 79.60095)scale(0.1 -0.1)\">\r\n       <use xlink:href=\"#DejaVuSans-49\"/>\r\n      </g>\r\n     </g>\r\n    </g>\r\n    <g id=\"ytick_6\">\r\n     <g id=\"line2d_14\">\r\n      <g>\r\n       <use style=\"stroke:#000000;stroke-width:0.8;\" x=\"42.620313\" xlink:href=\"#m7eda68ca81\" y=\"43.400475\"/>\r\n      </g>\r\n     </g>\r\n     <g id=\"text_15\">\r\n      <!-- 2 -->\r\n      <g transform=\"translate(29.257813 47.199694)scale(0.1 -0.1)\">\r\n       <use xlink:href=\"#DejaVuSans-50\"/>\r\n      </g>\r\n     </g>\r\n    </g>\r\n    <g id=\"ytick_7\">\r\n     <g id=\"line2d_15\">\r\n      <g>\r\n       <use style=\"stroke:#000000;stroke-width:0.8;\" x=\"42.620313\" xlink:href=\"#m7eda68ca81\" y=\"10.999219\"/>\r\n      </g>\r\n     </g>\r\n     <g id=\"text_16\">\r\n      <!-- 3 -->\r\n      <g transform=\"translate(29.257813 14.798438)scale(0.1 -0.1)\">\r\n       <use xlink:href=\"#DejaVuSans-51\"/>\r\n      </g>\r\n     </g>\r\n    </g>\r\n    <g id=\"text_17\">\r\n     <!-- ash -->\r\n     <g transform=\"translate(14.798438 125.206933)rotate(-90)scale(0.1 -0.1)\">\r\n      <defs>\r\n       <path d=\"M 44.28125 53.078125 \r\nL 44.28125 44.578125 \r\nQ 40.484375 46.53125 36.375 47.5 \r\nQ 32.28125 48.484375 27.875 48.484375 \r\nQ 21.1875 48.484375 17.84375 46.4375 \r\nQ 14.5 44.390625 14.5 40.28125 \r\nQ 14.5 37.15625 16.890625 35.375 \r\nQ 19.28125 33.59375 26.515625 31.984375 \r\nL 29.59375 31.296875 \r\nQ 39.15625 29.25 43.1875 25.515625 \r\nQ 47.21875 21.78125 47.21875 15.09375 \r\nQ 47.21875 7.46875 41.1875 3.015625 \r\nQ 35.15625 -1.421875 24.609375 -1.421875 \r\nQ 20.21875 -1.421875 15.453125 -0.5625 \r\nQ 10.6875 0.296875 5.421875 2 \r\nL 5.421875 11.28125 \r\nQ 10.40625 8.6875 15.234375 7.390625 \r\nQ 20.0625 6.109375 24.8125 6.109375 \r\nQ 31.15625 6.109375 34.5625 8.28125 \r\nQ 37.984375 10.453125 37.984375 14.40625 \r\nQ 37.984375 18.0625 35.515625 20.015625 \r\nQ 33.0625 21.96875 24.703125 23.78125 \r\nL 21.578125 24.515625 \r\nQ 13.234375 26.265625 9.515625 29.90625 \r\nQ 5.8125 33.546875 5.8125 39.890625 \r\nQ 5.8125 47.609375 11.28125 51.796875 \r\nQ 16.75 56 26.8125 56 \r\nQ 31.78125 56 36.171875 55.265625 \r\nQ 40.578125 54.546875 44.28125 53.078125 \r\nz\r\n\" id=\"DejaVuSans-115\"/>\r\n      </defs>\r\n      <use xlink:href=\"#DejaVuSans-97\"/>\r\n      <use x=\"61.279297\" xlink:href=\"#DejaVuSans-115\"/>\r\n      <use x=\"113.378906\" xlink:href=\"#DejaVuSans-104\"/>\r\n     </g>\r\n    </g>\r\n   </g>\r\n   <g id=\"patch_3\">\r\n    <path d=\"M 42.620313 225.089433 \r\nL 42.620313 7.649433 \r\n\" style=\"fill:none;stroke:#000000;stroke-linecap:square;stroke-linejoin:miter;stroke-width:0.8;\"/>\r\n   </g>\r\n   <g id=\"patch_4\">\r\n    <path d=\"M 377.420313 225.089433 \r\nL 377.420313 7.649433 \r\n\" style=\"fill:none;stroke:#000000;stroke-linecap:square;stroke-linejoin:miter;stroke-width:0.8;\"/>\r\n   </g>\r\n   <g id=\"patch_5\">\r\n    <path d=\"M 42.620312 225.089433 \r\nL 377.420313 225.089433 \r\n\" style=\"fill:none;stroke:#000000;stroke-linecap:square;stroke-linejoin:miter;stroke-width:0.8;\"/>\r\n   </g>\r\n   <g id=\"patch_6\">\r\n    <path d=\"M 42.620312 7.649433 \r\nL 377.420313 7.649433 \r\n\" style=\"fill:none;stroke:#000000;stroke-linecap:square;stroke-linejoin:miter;stroke-width:0.8;\"/>\r\n   </g>\r\n   <g id=\"legend_1\">\r\n    <g id=\"patch_7\">\r\n     <path d=\"M 327.203125 59.683808 \r\nL 370.420313 59.683808 \r\nQ 372.420313 59.683808 372.420313 57.683808 \r\nL 372.420313 14.649433 \r\nQ 372.420313 12.649433 370.420313 12.649433 \r\nL 327.203125 12.649433 \r\nQ 325.203125 12.649433 325.203125 14.649433 \r\nL 325.203125 57.683808 \r\nQ 325.203125 59.683808 327.203125 59.683808 \r\nz\r\n\" style=\"fill:#ffffff;opacity:0.8;stroke:#cccccc;stroke-linejoin:miter;\"/>\r\n    </g>\r\n    <g id=\"text_18\">\r\n     <!-- clusters -->\r\n     <g transform=\"translate(329.203125 24.247871)scale(0.1 -0.1)\">\r\n      <defs>\r\n       <path d=\"M 8.5 21.578125 \r\nL 8.5 54.6875 \r\nL 17.484375 54.6875 \r\nL 17.484375 21.921875 \r\nQ 17.484375 14.15625 20.5 10.265625 \r\nQ 23.53125 6.390625 29.59375 6.390625 \r\nQ 36.859375 6.390625 41.078125 11.03125 \r\nQ 45.3125 15.671875 45.3125 23.6875 \r\nL 45.3125 54.6875 \r\nL 54.296875 54.6875 \r\nL 54.296875 0 \r\nL 45.3125 0 \r\nL 45.3125 8.40625 \r\nQ 42.046875 3.421875 37.71875 1 \r\nQ 33.40625 -1.421875 27.6875 -1.421875 \r\nQ 18.265625 -1.421875 13.375 4.4375 \r\nQ 8.5 10.296875 8.5 21.578125 \r\nz\r\nM 31.109375 56 \r\nz\r\n\" id=\"DejaVuSans-117\"/>\r\n       <path d=\"M 18.3125 70.21875 \r\nL 18.3125 54.6875 \r\nL 36.8125 54.6875 \r\nL 36.8125 47.703125 \r\nL 18.3125 47.703125 \r\nL 18.3125 18.015625 \r\nQ 18.3125 11.328125 20.140625 9.421875 \r\nQ 21.96875 7.515625 27.59375 7.515625 \r\nL 36.8125 7.515625 \r\nL 36.8125 0 \r\nL 27.59375 0 \r\nQ 17.1875 0 13.234375 3.875 \r\nQ 9.28125 7.765625 9.28125 18.015625 \r\nL 9.28125 47.703125 \r\nL 2.6875 47.703125 \r\nL 2.6875 54.6875 \r\nL 9.28125 54.6875 \r\nL 9.28125 70.21875 \r\nz\r\n\" id=\"DejaVuSans-116\"/>\r\n       <path d=\"M 56.203125 29.59375 \r\nL 56.203125 25.203125 \r\nL 14.890625 25.203125 \r\nQ 15.484375 15.921875 20.484375 11.0625 \r\nQ 25.484375 6.203125 34.421875 6.203125 \r\nQ 39.59375 6.203125 44.453125 7.46875 \r\nQ 49.3125 8.734375 54.109375 11.28125 \r\nL 54.109375 2.78125 \r\nQ 49.265625 0.734375 44.1875 -0.34375 \r\nQ 39.109375 -1.421875 33.890625 -1.421875 \r\nQ 20.796875 -1.421875 13.15625 6.1875 \r\nQ 5.515625 13.8125 5.515625 26.8125 \r\nQ 5.515625 40.234375 12.765625 48.109375 \r\nQ 20.015625 56 32.328125 56 \r\nQ 43.359375 56 49.78125 48.890625 \r\nQ 56.203125 41.796875 56.203125 29.59375 \r\nz\r\nM 47.21875 32.234375 \r\nQ 47.125 39.59375 43.09375 43.984375 \r\nQ 39.0625 48.390625 32.421875 48.390625 \r\nQ 24.90625 48.390625 20.390625 44.140625 \r\nQ 15.875 39.890625 15.1875 32.171875 \r\nz\r\n\" id=\"DejaVuSans-101\"/>\r\n       <path d=\"M 41.109375 46.296875 \r\nQ 39.59375 47.171875 37.8125 47.578125 \r\nQ 36.03125 48 33.890625 48 \r\nQ 26.265625 48 22.1875 43.046875 \r\nQ 18.109375 38.09375 18.109375 28.8125 \r\nL 18.109375 0 \r\nL 9.078125 0 \r\nL 9.078125 54.6875 \r\nL 18.109375 54.6875 \r\nL 18.109375 46.1875 \r\nQ 20.953125 51.171875 25.484375 53.578125 \r\nQ 30.03125 56 36.53125 56 \r\nQ 37.453125 56 38.578125 55.875 \r\nQ 39.703125 55.765625 41.0625 55.515625 \r\nz\r\n\" id=\"DejaVuSans-114\"/>\r\n      </defs>\r\n      <use xlink:href=\"#DejaVuSans-99\"/>\r\n      <use x=\"54.980469\" xlink:href=\"#DejaVuSans-108\"/>\r\n      <use x=\"82.763672\" xlink:href=\"#DejaVuSans-117\"/>\r\n      <use x=\"146.142578\" xlink:href=\"#DejaVuSans-115\"/>\r\n      <use x=\"198.242188\" xlink:href=\"#DejaVuSans-116\"/>\r\n      <use x=\"237.451172\" xlink:href=\"#DejaVuSans-101\"/>\r\n      <use x=\"298.974609\" xlink:href=\"#DejaVuSans-114\"/>\r\n      <use x=\"340.087891\" xlink:href=\"#DejaVuSans-115\"/>\r\n     </g>\r\n    </g>\r\n    <g id=\"PathCollection_4\">\r\n     <defs>\r\n      <path d=\"M 0 3 \r\nC 0.795609 3 1.55874 2.683901 2.12132 2.12132 \r\nC 2.683901 1.55874 3 0.795609 3 0 \r\nC 3 -0.795609 2.683901 -1.55874 2.12132 -2.12132 \r\nC 1.55874 -2.683901 0.795609 -3 0 -3 \r\nC -0.795609 -3 -1.55874 -2.683901 -2.12132 -2.12132 \r\nC -2.683901 -1.55874 -3 -0.795609 -3 0 \r\nC -3 0.795609 -2.683901 1.55874 -2.12132 2.12132 \r\nC -1.55874 2.683901 -0.795609 3 0 3 \r\nz\r\n\" id=\"md8f7d451c0\" style=\"stroke:#1f77b4;\"/>\r\n     </defs>\r\n     <g>\r\n      <use style=\"fill:#1f77b4;stroke:#1f77b4;\" x=\"341.630469\" xlink:href=\"#md8f7d451c0\" y=\"36.300996\"/>\r\n     </g>\r\n    </g>\r\n    <g id=\"text_19\">\r\n     <!-- 0 -->\r\n     <g transform=\"translate(359.630469 38.925996)scale(0.1 -0.1)\">\r\n      <use xlink:href=\"#DejaVuSans-48\"/>\r\n     </g>\r\n    </g>\r\n    <g id=\"PathCollection_5\">\r\n     <defs>\r\n      <path d=\"M 0 3 \r\nC 0.795609 3 1.55874 2.683901 2.12132 2.12132 \r\nC 2.683901 1.55874 3 0.795609 3 0 \r\nC 3 -0.795609 2.683901 -1.55874 2.12132 -2.12132 \r\nC 1.55874 -2.683901 0.795609 -3 0 -3 \r\nC -0.795609 -3 -1.55874 -2.683901 -2.12132 -2.12132 \r\nC -2.683901 -1.55874 -3 -0.795609 -3 0 \r\nC -3 0.795609 -2.683901 1.55874 -2.12132 2.12132 \r\nC -1.55874 2.683901 -0.795609 3 0 3 \r\nz\r\n\" id=\"m4e8d73e502\" style=\"stroke:#ff7f0e;\"/>\r\n     </defs>\r\n     <g>\r\n      <use style=\"fill:#ff7f0e;stroke:#ff7f0e;\" x=\"341.630469\" xlink:href=\"#m4e8d73e502\" y=\"50.979121\"/>\r\n     </g>\r\n    </g>\r\n    <g id=\"text_20\">\r\n     <!-- 1 -->\r\n     <g transform=\"translate(359.630469 53.604121)scale(0.1 -0.1)\">\r\n      <use xlink:href=\"#DejaVuSans-49\"/>\r\n     </g>\r\n    </g>\r\n   </g>\r\n  </g>\r\n </g>\r\n <defs>\r\n  <clipPath id=\"p899f14153b\">\r\n   <rect height=\"217.44\" width=\"334.8\" x=\"42.620313\" y=\"7.649433\"/>\r\n  </clipPath>\r\n </defs>\r\n</svg>\r\n",
      "image/png": "[encoded data removed]"
     },
     "metadata": {
      "needs_background": "light"
     }
    },
    {
     "output_type": "stream",
     "name": "stdout",
     "text": [
      "this is i: 0\n",
      "variance cluster: 0.24305555555555547\n",
      "highest found variance: 0\n",
      "the cluster with the highest bias: 0\n",
      "this is i: 1\n",
      "variance cluster: 0.2358276643990929\n",
      "highest found variance: 0.24305555555555547\n",
      "the end\n",
      "Splitting on cluster 0\n",
      "this is the mean F-score of all classes within this cluster in the list:  0.5362637362637362\n",
      "this is the mean F-score of all classes within this cluster in the list:  0.5185185185185185\n",
      "this is the mean F-score of all classes within this cluster in the list:  0.5185185185185185\n",
      "this is the mean F-score of all classes within this cluster in the list:  0.5362637362637362\n",
      "<ipython-input-11-e08cd36d548b>:13: SettingWithCopyWarning: \n",
      "A value is trying to be set on a copy of a slice from a DataFrame.\n",
      "Try using .loc[row_indexer,col_indexer] = value instead\n",
      "\n",
      "See the caveats in the documentation: https://pandas.pydata.org/pandas-docs/stable/user_guide/indexing.html#returning-a-view-versus-a-copy\n",
      "  high_bias_cluster['new_clusters'] = pd.DataFrame(kmeans_algo.predict(high_bias_cluster),index=high_bias_cluster.index)\n"
     ]
    }
   ],
   "source": [
    "MAX_ITER = 10 \n",
    "x = 1 # cluster number\n",
    "bias_prev_iteration_cluster = 0\n",
    "\n",
    "for i in range(1, MAX_ITER):\n",
    "    print('Splitting on cluster', x)\n",
    "    # select the instances with cluster X as dataset\n",
    "    high_bias_cluster = clustering_features.loc[clustering_features['clusters'] == x]\n",
    "    high_bias_cluster.drop('clusters', axis=1)\n",
    "\n",
    "    # Apply Kmeans \n",
    "    kmeans_algo = KMeans(n_clusters=2, **clus_model_kwargs).fit(high_bias_cluster) \n",
    "    high_bias_cluster['new_clusters'] = pd.DataFrame(kmeans_algo.predict(high_bias_cluster),index=high_bias_cluster.index) \n",
    "    \n",
    "    new_clustering_features = clustering_features.copy(deep=True)\n",
    "    new_clustering_features['clusters'] = high_bias_cluster['new_clusters'].combine_first(new_clustering_features['clusters'])\n",
    "    new_clustering_features['true_class'] = all_data[['true_class']]\n",
    "    new_clustering_features['predicted_class'] = all_data[['predicted_class']]\n",
    "\n",
    "    #todo: check whether adding the predicted and true class now works\n",
    "    \n",
    "    # calculate bias for each of the two clusters\n",
    "    negative_bias_0 = calculate_bias(new_clustering_features, 0)\n",
    "    negative_bias_1 = calculate_bias(new_clustering_features, 1)\n",
    "\n",
    "    new_clustering_features.drop(['true_class', 'predicted_class'], axis=1)\n",
    "\n",
    "    if max(negative_bias_0, negative_bias_1) >= bias_prev_iteration_cluster:\n",
    "        # select cluster with highest negative bias and merge new cluster assignments with the df\n",
    "        bias_prev_iteration_cluster = max(negative_bias_0, negative_bias_1)\n",
    "        clustering_features = new_clustering_features.copy(deep=True)\n",
    "        plot_clusters(clustering_features)\n",
    "    else:\n",
    "        break\n",
    "        print('no clusters with a higher bias are left')\n",
    "    \n",
    "    clustering_features = clustering_features.join(errors, how='left')\n",
    "    x = get_highest_var_cluster(clustering_features)\n",
    "    clustering_features = clustering_features.drop('errors', axis=1)\n",
    "    print('the end')\n"
   ]
  },
  {
   "cell_type": "code",
   "execution_count": 12,
   "metadata": {},
   "outputs": [],
   "source": [
    "# exporting the biased cluster dataframe for further analysis\n",
    "# resulting_cluster.to_csv('biased_wine_cluster.csv')"
   ]
  }
 ]
}