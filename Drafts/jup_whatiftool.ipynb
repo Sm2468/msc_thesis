{
 "cells": [
  {
   "cell_type": "code",
   "execution_count": 2,
   "id": "failing-civilian",
   "metadata": {},
   "outputs": [
    {
     "name": "stdout",
     "output_type": "stream",
     "text": [
      "Collecting witwidget\n",
      "  Using cached witwidget-1.8.0-py3-none-any.whl (1.5 MB)\n",
      "Collecting absl-py>=0.4\n",
      "  Using cached absl_py-0.12.0-py3-none-any.whl (129 kB)\n",
      "Requirement already satisfied: six>=1.12.0 in c:\\users\\gebruiker\\anaconda3\\envs\\clusterenv\\lib\\site-packages (from witwidget) (1.15.0)\n",
      "Collecting witwidget\n",
      "  Downloading witwidget-1.7.0-py3-none-any.whl (2.3 MB)\n",
      "  Downloading witwidget-1.6.0-py3-none-any.whl (2.3 MB)\n",
      "  Downloading witwidget-1.5.1-py3-none-any.whl (2.2 MB)\n",
      "  Downloading witwidget-1.5.0-py3-none-any.whl (2.2 MB)\n",
      "  Downloading witwidget-1.4.5-py3-none-any.whl (2.2 MB)\n",
      "  Downloading witwidget-1.4.4-py3-none-any.whl (2.2 MB)\n",
      "  Downloading witwidget-1.4.3-py3-none-any.whl (2.2 MB)\n",
      "  Downloading witwidget-1.4.2-py3-none-any.whl (2.2 MB)\n",
      "  Downloading witwidget-1.4.1-py3-none-any.whl (2.2 MB)\n",
      "  Downloading witwidget-1.4.0-py3-none-any.whl (2.2 MB)\n",
      "  Downloading witwidget-1.3-py3-none-any.whl (1.9 MB)\n",
      "  Downloading witwidget-1.2-py3-none-any.whl (1.9 MB)\n",
      "  Downloading witwidget-1.1-py3-none-any.whl (1.2 MB)\n",
      "  Downloading witwidget-1.0.2-py3-none-any.whl (1.2 MB)\n",
      "  Downloading witwidget-1.0.1-py3-none-any.whl (1.2 MB)\n",
      "  Downloading witwidget-1.0.0-py3-none-any.whl (1.2 MB)\n",
      "Collecting jupyter<2,>=1.0\n",
      "  Using cached jupyter-1.0.0-py2.py3-none-any.whl (2.7 kB)\n",
      "Collecting tensorflow-serving-api>=1.12.0\n",
      "  Downloading tensorflow_serving_api-2.4.1-py2.py3-none-any.whl (38 kB)\n",
      "Collecting ipywidgets>=7.0.0\n",
      "  Downloading ipywidgets-7.6.3-py2.py3-none-any.whl (121 kB)\n",
      "Collecting witwidget\n",
      "  Downloading witwidget-0.2.1-py3-none-any.whl (1.2 MB)\n",
      "  Downloading witwidget-0.2.0-py3-none-any.whl (1.2 MB)\n",
      "\n",
      "The conflict is caused by:\n",
      "    witwidget 1.8.0 depends on tensorflow>=1.12.1\n",
      "    witwidget 1.7.0 depends on tensorflow>=1.12.1\n",
      "    witwidget 1.6.0 depends on tensorflow>=1.12.0\n",
      "    witwidget 1.5.1 depends on tensorflow>=1.12.0\n",
      "    witwidget 1.5.0 depends on tensorflow>=1.12.0\n",
      "    witwidget 1.4.5 depends on tensorflow>=1.12.0\n",
      "    witwidget 1.4.4 depends on tensorflow>=1.12.0\n",
      "    witwidget 1.4.3 depends on tensorflow>=1.12.0\n",
      "    witwidget 1.4.2 depends on tensorflow>=1.12.0\n",
      "    witwidget 1.4.1 depends on tensorflow>=1.12.0\n",
      "    witwidget 1.4.0 depends on tensorflow>=1.12.0\n",
      "    witwidget 1.3 depends on tensorflow>=1.12.0\n",
      "    witwidget 1.2 depends on tensorflow>=1.12.0\n",
      "    witwidget 1.1 depends on tensorflow>=1.12.0\n",
      "    witwidget 1.0.2 depends on tensorflow>=1.12.0\n",
      "    witwidget 1.0.1 depends on tensorflow>=1.12.0\n",
      "    witwidget 1.0.0 depends on tensorflow>=1.12.0\n",
      "    witwidget 0.2.1 depends on tensorflow>=1.12.0\n",
      "    witwidget 0.2.0 depends on tensorflow>=1.12.0\n",
      "\n",
      "To fix this you could try to:\n",
      "1. loosen the range of package versions you've specified\n",
      "2. remove package versions to allow pip attempt to solve the dependency conflict\n",
      "\n"
     ]
    },
    {
     "name": "stderr",
     "output_type": "stream",
     "text": [
      "ERROR: Cannot install witwidget==0.2.0, witwidget==0.2.1, witwidget==1.0.0, witwidget==1.0.1, witwidget==1.0.2, witwidget==1.1, witwidget==1.2, witwidget==1.3, witwidget==1.4.0, witwidget==1.4.1, witwidget==1.4.2, witwidget==1.4.3, witwidget==1.4.4, witwidget==1.4.5, witwidget==1.5.0, witwidget==1.5.1, witwidget==1.6.0, witwidget==1.7.0 and witwidget==1.8.0 because these package versions have conflicting dependencies.\n",
      "ERROR: ResolutionImpossible: for help visit https://pip.pypa.io/en/latest/user_guide/#fixing-conflicting-dependencies\n"
     ]
    },
    {
     "name": "stdout",
     "output_type": "stream",
     "text": [
      "An error occured.\n",
      "ValueError: Please install Node.js and npm before continuing installation. You may be able to install Node.js from your package manager, from conda, or directly from the Node.js website (https://nodejs.org).\n",
      "See the log file for details:  C:\\Users\\GEBRUI~1\\AppData\\Local\\Temp\\jupyterlab-debug-uiw8nj1q.log\n",
      "An error occured.\n",
      "ValueError: Please install Node.js and npm before continuing installation. You may be able to install Node.js from your package manager, from conda, or directly from the Node.js website (https://nodejs.org).\n",
      "See the log file for details:  C:\\Users\\GEBRUI~1\\AppData\\Local\\Temp\\jupyterlab-debug-1tulvgth.log\n"
     ]
    }
   ],
   "source": []
  }
 ],
 "metadata": {
  "kernelspec": {
   "display_name": "cluster1",
   "language": "python",
   "name": "cluster1"
  },
  "language_info": {
   "codemirror_mode": {
    "name": "ipython",
    "version": 3
   },
   "file_extension": ".py",
   "mimetype": "text/x-python",
   "name": "python",
   "nbconvert_exporter": "python",
   "pygments_lexer": "ipython3",
   "version": "3.9.1"
  }
 },
 "nbformat": 4,
 "nbformat_minor": 5
}